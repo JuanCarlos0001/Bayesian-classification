{
 "cells": [
  {
   "cell_type": "markdown",
   "id": "073f5bd8-2933-40c1-9d6e-d5d9ba4389c1",
   "metadata": {},
   "source": [
    "## Bayesian Classification fitting with Metropolis-Hastings\n",
    "\n",
    "Disclaimer: \n",
    "<br> This solution is showcased to share my understanding of the problem and my own approach to it.\n",
    "<br> This solution is not intended for any general application.\n",
    "\n",
    "#### For questions, suggestions and further details, please feel free to contact me at juan-carlos.ramirez@warwick.ac.uk\n",
    "\n",
    "---------"
   ]
  },
  {
   "cell_type": "code",
   "execution_count": 1,
   "id": "7adff47c-78de-4d84-a5f2-a9b9a059bb89",
   "metadata": {
    "tags": []
   },
   "outputs": [],
   "source": [
    "import numpy as np\n",
    "import pandas as pd\n",
    "import seaborn as sns\n",
    "import scipy.stats as stats\n",
    "import matplotlib.pyplot as plt\n",
    "sns.set_theme() # Seaborn template\n",
    "plt.rcParams['figure.figsize'] = [10, 5] # Default to bigger plots\n",
    "# Import training and test data provided by Richard\n",
    "path = '7.1 Bayesian classification data/'\n",
    "X_test, X_train  = pd.read_csv(path+'x_test.csv'), pd.read_csv(path+'x_train.csv')\n",
    "Y_test, Y_train = pd.read_csv(path+'y_test.csv'), pd.read_csv(path+'y_train.csv')\n",
    "# Clean data from unwanted columns\n",
    "X_test, X_train = X_test.set_index('Unnamed: 0'), X_train.set_index('Unnamed: 0')\n",
    "Y_test, Y_train = Y_test.set_index('Unnamed: 0'), Y_train.set_index('Unnamed: 0')\n",
    "# Give matrix format and add intercept\n",
    "Y_test, X_test = Y_test.x.values, np.c_[np.ones(len(X_test)),X_test.values]\n",
    "Target, DesignMatrix = Y_train.x.values, np.c_[np.ones(len(X_train)),X_train.values]"
   ]
  },
  {
   "cell_type": "markdown",
   "id": "fdc89b01-20c3-42f5-a534-b64df317c812",
   "metadata": {},
   "source": [
    "## Functions\n",
    "-------------------------------"
   ]
  },
  {
   "cell_type": "code",
   "execution_count": 2,
   "id": "799bc2f4-5d6a-4d66-a782-624cedd8c489",
   "metadata": {
    "tags": []
   },
   "outputs": [],
   "source": [
    "# //////////////////////////////////////////////// Y's Conditional Mass Function /////////////////////\n",
    "def Y_Mass(z):\n",
    "    return np.exp(z) / sum(np.exp(z))"
   ]
  },
  {
   "cell_type": "code",
   "execution_count": 3,
   "id": "7a91f363-f556-4279-96cb-518af0f31356",
   "metadata": {},
   "outputs": [],
   "source": [
    "# //////////////////////////////////////// Data Log-Likelihood Function USED FOR TASK 1 //////////////\n",
    "def Data_LogLikelihood(Y, x, B, GetState=False):\n",
    "    if B.ndim < 2:\n",
    "        xB = x @ np.array([B[0:3],B[3:6],B[6:9]]) # (x^T)B\n",
    "        if GetState:\n",
    "            return [ np.log( Y_Mass( xB[r] ) )[ GetState - 1 ] for r in range( len(xB) )]\n",
    "        else:\n",
    "            return sum([ np.log( Y_Mass( xB[r] ) )[ Y[r] - 1 ] for r in range( len(xB) )])\n",
    "    elif len(x) < 2:\n",
    "        result = np.zeros(1)\n",
    "        for r in range(len(B)):\n",
    "            rB = B[r]\n",
    "            xB = x @ np.array([rB[0:3],rB[3:6],rB[6:9]])\n",
    "            if GetState:\n",
    "                result = np.row_stack([result,[ np.log( Y_Mass( xB[i] ) )[ GetState - 1 ] \n",
    "                                               for i in range( len(xB) )]])\n",
    "            else:\n",
    "                return 'Multi dimensional Beta only compatible with GetState=True'\n",
    "        return result[1:] "
   ]
  },
  {
   "cell_type": "code",
   "execution_count": 4,
   "id": "ec0a6494-d052-4d73-aebb-b6eec3057211",
   "metadata": {
    "tags": []
   },
   "outputs": [],
   "source": [
    "# /////////////////////////////////////////////// Metropolis-Hastings Algorithm ///////////////////////\n",
    "def Metropolis_Hastings(Iterations, Burn_In, Param_Dim, Prior_S, Proposal_S):\n",
    "    BetaPrior = stats.multivariate_normal([0]*Param_Dim, Prior_S) # Beta Prior\n",
    "    B_prev = BetaPrior.rvs(1)\n",
    "    Betas = np.zeros(9)\n",
    "    acc = 0\n",
    "    for _ in range(Iterations):\n",
    "        B_new = stats.multivariate_normal(B_prev, Proposal_S).rvs(1) # Sample Parameter vector B\n",
    "        pB_new = BetaPrior.logpdf(B_new) # Log-likelihood B_New under the prior\n",
    "        pB_prev = BetaPrior.logpdf(B_prev) # Log-likelihood of B_prev under prior\n",
    "        qB_new = stats.multivariate_normal.logpdf(B_new, B_prev, Proposal_S) # Log-l of B_new\n",
    "        qB_prev = stats.multivariate_normal.logpdf(B_prev, B_new, Proposal_S) # Log-l of B_prev\n",
    "        llData_NB = Data_LogLikelihood(Target, DesignMatrix, B_new) # Log-L of data | B_New\n",
    "        llData_PB = Data_LogLikelihood(Target, DesignMatrix, B_prev) # Log-L of data | B_prev\n",
    "        if np.log(np.random.uniform(0,1)) < min(np.log(1), (llData_NB + pB_new + qB_prev) - \\\n",
    "                                                           (llData_PB + pB_prev + qB_new) ):\n",
    "            acc += 1\n",
    "            B_prev = B_new\n",
    "            if _ > Burn_In : Betas = np.row_stack([Betas,B_new])            \n",
    "        else:\n",
    "            if _ > Burn_In : Betas = np.row_stack([Betas,B_prev])\n",
    "    return pd.DataFrame(Betas[1:,:]), round(acc/(Iterations-Burn_In),4)*100"
   ]
  },
  {
   "cell_type": "markdown",
   "id": "5f548ea5-65ff-49ff-9f5f-a9adc3617a5d",
   "metadata": {},
   "source": [
    "## Preparation\n",
    "We execute the Metropolis Hastings Algorithm using the functions defined in the previous cell as preparation for Tasks 1 to 6\n",
    "\n",
    "-----------------"
   ]
  },
  {
   "cell_type": "code",
   "execution_count": 5,
   "id": "d7730ed3-ff7b-48d2-b542-bf2468b6289f",
   "metadata": {
    "tags": []
   },
   "outputs": [],
   "source": [
    "# Import Trained Sigma_q (200,000 iterations, 100,000 Burnt, Initial Sigma_q = np.eye(d)*.1)\n",
    "Sigma_q = pd.read_csv(path+'Sigma_q.csv',header=None).values\n",
    "Betas, Acc_Ratio = Metropolis_Hastings(Iterations=50000, Burn_In=50000//10, Param_Dim=9,\n",
    "                                       Prior_S=np.eye(9)*100, Proposal_S=Sigma_q)"
   ]
  },
  {
   "cell_type": "markdown",
   "id": "515fc921-9b23-4844-833b-5692da7bf580",
   "metadata": {},
   "source": [
    "---------\n",
    "### Task 1: Calculate the Log-Likelihood of Target given DesignMatrix and B = [1,1,1,1,1,1,1,1,1]"
   ]
  },
  {
   "cell_type": "code",
   "execution_count": 6,
   "id": "699557a8-1179-4dfe-9b39-bb83e27fdefc",
   "metadata": {
    "tags": []
   },
   "outputs": [
    {
     "name": "stdout",
     "output_type": "stream",
     "text": [
      "Data Log-Likelihood assuming B = [1,1,1,1,1,1,1,1,1]: -163.6932\n"
     ]
    }
   ],
   "source": [
    "print('Data Log-Likelihood assuming B = [1,1,1,1,1,1,1,1,1]:',\n",
    "      round(Data_LogLikelihood(Target, DesignMatrix, np.array([1,1,1,1,1,1,1,1,1,1])),4))"
   ]
  },
  {
   "cell_type": "markdown",
   "id": "9b31e98b-f945-45e4-b69c-589b8afaffa0",
   "metadata": {},
   "source": [
    "---------\n",
    "### Task 2: Display the Optimal Proposal Covariance Matrix and the MH acceptance ratio using it. "
   ]
  },
  {
   "cell_type": "code",
   "execution_count": 7,
   "id": "4c602dd2-06e8-4e7c-a51d-b22cba29b294",
   "metadata": {
    "tags": []
   },
   "outputs": [
    {
     "name": "stdout",
     "output_type": "stream",
     "text": [
      "Optimal Proposal Covariance Matrix diagonal: [6.69, 9.05, 24.87, 0.94, 1.02, 4.84, 4.8, 4.89, 8.38]\n",
      "Acceptance ratio under Sigma q:  39.160000000000004 %\n"
     ]
    }
   ],
   "source": [
    "print('Optimal Proposal Covariance Matrix diagonal:',[round(Sigma_q[i,i],2) for i in range(len(Sigma_q))])\n",
    "print('Acceptance ratio under Sigma q: ',Acc_Ratio,'%')"
   ]
  },
  {
   "cell_type": "markdown",
   "id": "0cc6bc07-ff5f-43bc-995a-3551fd562491",
   "metadata": {},
   "source": [
    "---------\n",
    "### Task 3: Iterations and Burn-In needed to get an ESS greater than 1000 using the Betas Matrix"
   ]
  },
  {
   "cell_type": "code",
   "execution_count": 8,
   "id": "2e92bb1d-a150-480e-a3d3-c05ab9fb6cec",
   "metadata": {
    "tags": []
   },
   "outputs": [
    {
     "name": "stdout",
     "output_type": "stream",
     "text": [
      "Burn 5000 and run 45000 iterations afterwards to get an ESS consistently greater than 1000\n"
     ]
    }
   ],
   "source": [
    "# The following was verified using the R code provided by Richard using the \"Betas\" matrix obtained from the MH Algorithm\n",
    "print ('Burn',50000//10,'and run',50000-50000//10,'iterations afterwards to get an ESS consistently greater than 1000')"
   ]
  },
  {
   "cell_type": "markdown",
   "id": "f30d1d69-78cb-4cb5-b865-cea6f58dc448",
   "metadata": {},
   "source": [
    "---------\n",
    "### Task 4: Plot the histogram of the final value of B"
   ]
  },
  {
   "cell_type": "code",
   "execution_count": 9,
   "id": "1c1c5326-18e6-4c6d-92b3-77c9bab4af40",
   "metadata": {
    "tags": []
   },
   "outputs": [
    {
     "data": {
      "image/png": "[encoded data removed]",
      "text/plain": [
       "<Figure size 720x360 with 1 Axes>"
      ]
     },
     "metadata": {},
     "output_type": "display_data"
    }
   ],
   "source": [
    "Betas.loc[:,8].hist(bins=20)\n",
    "plt.title('Distribution of the Metropolis-Hastings generated final value of B',size=16)\n",
    "plt.show()"
   ]
  },
  {
   "cell_type": "markdown",
   "id": "850c707e-4b81-4e91-9357-54058f585c06",
   "metadata": {},
   "source": [
    "---------\n",
    "### Task 5: Plot the distribution of the Log-Probability of the test point being in state 1 (Versicolor)"
   ]
  },
  {
   "cell_type": "code",
   "execution_count": 10,
   "id": "9bf0547b-ede6-4b2f-ba4d-e30cfa6f7f58",
   "metadata": {
    "tags": []
   },
   "outputs": [
    {
     "data": {
      "image/png": "[encoded data removed]",
      "text/plain": [
       "<Figure size 720x360 with 1 Axes>"
      ]
     },
     "metadata": {},
     "output_type": "display_data"
    }
   ],
   "source": [
    "LogP1_Posterior = Data_LogLikelihood(None, X_test, Betas.values, GetState=1)\n",
    "plt.hist(LogP1_Posterior,bins=20)\n",
    "plt.title('Distribution of the Log-Probability of State 1 (Versicolor)',size=16)\n",
    "plt.show()"
   ]
  },
  {
   "cell_type": "markdown",
   "id": "4dc8e8f3-421f-4d59-904d-a322b245884f",
   "metadata": {},
   "source": [
    "---------\n",
    "### Task 6: Estimate the expected probability of the test point being in state 1"
   ]
  },
  {
   "cell_type": "code",
   "execution_count": 11,
   "id": "3461b12c-0bec-41bb-9e19-7c62f94d2963",
   "metadata": {
    "tags": []
   },
   "outputs": [
    {
     "name": "stdout",
     "output_type": "stream",
     "text": [
      "Expected probability of [1.  6.7 3.1] being a Versicolor: 27.0971 %\n"
     ]
    }
   ],
   "source": [
    "print('Expected probability of',X_test[0],'being a Versicolor:',round(np.mean(np.exp(LogP1_Posterior))*100,4),'%')"
   ]
  }
 ],
 "metadata": {
  "kernelspec": {
   "display_name": "Python 3 (ipykernel)",
   "language": "python",
   "name": "python3"
  },
  "language_info": {
   "codemirror_mode": {
    "name": "ipython",
    "version": 3
   },
   "file_extension": ".py",
   "mimetype": "text/x-python",
   "name": "python",
   "nbconvert_exporter": "python",
   "pygments_lexer": "ipython3",
   "version": "3.7.5"
  }
 },
 "nbformat": 4,
 "nbformat_minor": 5
}
